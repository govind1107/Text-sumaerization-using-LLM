{
 "cells": [
  {
   "cell_type": "code",
   "execution_count": 1,
   "metadata": {},
   "outputs": [],
   "source": [
    "import os\n",
    "import json\n",
    "import pandas as pd\n",
    "import traceback"
   ]
  },
  {
   "cell_type": "code",
   "execution_count": 2,
   "metadata": {},
   "outputs": [
    {
     "data": {
      "text/plain": [
       "True"
      ]
     },
     "execution_count": 2,
     "metadata": {},
     "output_type": "execute_result"
    }
   ],
   "source": [
    "from dotenv import load_dotenv\n",
    "load_dotenv()\n",
    "#Python-dotenv reads key-value pairs from a .env file and can set them as environment variables"
   ]
  },
  {
   "cell_type": "code",
   "execution_count": 4,
   "metadata": {},
   "outputs": [],
   "source": [
    "from langchain.chains.combine_documents.stuff import StuffDocumentsChain\n",
    "from langchain.chains.llm import LLMChain\n",
    "from langchain_core.prompts import PromptTemplate"
   ]
  },
  {
   "cell_type": "code",
   "execution_count": 5,
   "metadata": {},
   "outputs": [],
   "source": [
    "def preprocess_text(text):\n",
    "    # Remove citations\n",
    "    text = re.sub(r'\\[\\d+\\]', '', text)\n",
    "    return text"
   ]
  },
  {
   "cell_type": "code",
   "execution_count": 9,
   "metadata": {},
   "outputs": [
    {
     "name": "stderr",
     "output_type": "stream",
     "text": [
      "c:\\Users\\HP\\Desktop\\ML\\Gen AI\\Text_summerization\\text_env\\Lib\\site-packages\\tqdm\\auto.py:21: TqdmWarning: IProgress not found. Please update jupyter and ipywidgets. See https://ipywidgets.readthedocs.io/en/stable/user_install.html\n",
      "  from .autonotebook import tqdm as notebook_tqdm\n",
      "None of PyTorch, TensorFlow >= 2.0, or Flax have been found. Models won't be available and only tokenizers, configuration and file/data utilities can be used.\n"
     ]
    }
   ],
   "source": [
    "import re\n",
    "from nltk.tokenize import sent_tokenize\n",
    "from transformers import pipeline"
   ]
  },
  {
   "cell_type": "code",
   "execution_count": 10,
   "metadata": {},
   "outputs": [],
   "source": [
    "KEY = os.getenv(\"OPEN_API_KEY\")\n"
   ]
  },
  {
   "cell_type": "code",
   "execution_count": 68,
   "metadata": {},
   "outputs": [],
   "source": [
    "prompt_template = \"\"\"Write a concise summary of the following topic in {number} words only:\n",
    "\"{text}\"\n",
    "CONCISE SUMMARY:\"\"\""
   ]
  },
  {
   "cell_type": "code",
   "execution_count": 69,
   "metadata": {},
   "outputs": [],
   "source": [
    "from langchain_openai import ChatOpenAI"
   ]
  },
  {
   "cell_type": "code",
   "execution_count": 70,
   "metadata": {},
   "outputs": [],
   "source": [
    "summary_generation_prompt = PromptTemplate(\n",
    "    input_variables=['number','text'],\n",
    "    template=prompt_template\n",
    ")"
   ]
  },
  {
   "cell_type": "code",
   "execution_count": 71,
   "metadata": {},
   "outputs": [],
   "source": [
    "llm = ChatOpenAI(openai_api_key = KEY ,model_name = 'gpt-3.5-turbo',temperature = 0.5)\n"
   ]
  },
  {
   "cell_type": "code",
   "execution_count": 79,
   "metadata": {},
   "outputs": [],
   "source": [
    "llm_chain = LLMChain(llm=llm, prompt=summary_generation_prompt, output_key='summary',verbose=True)\n"
   ]
  },
  {
   "cell_type": "code",
   "execution_count": 80,
   "metadata": {},
   "outputs": [],
   "source": [
    "TEXT = \"\"\"Shah Rukh Khan (pronounced [ˈʃɑːɦɾʊx xɑːn] ⓘ; born 2 November 1965), also known by the initialism SRK, is an Indian actor and film producer who works in Hindi films. Referred to in the media as the \"Baadshah of Bollywood\" and \"King Khan\",[a] he has appeared in more than 100 films, and earned numerous accolades, including 14 Filmfare Awards. He has been awarded the Padma Shri by the Government of India, as well as the Ordre des Arts et des Lettres and Legion of Honour by the Government of France. Khan has a significant following in Asia and the Indian diaspora worldwide. In terms of audience size and income, several media outlets have described him as one of the most successful film stars in the world.[b] Many of his films thematise Indian national identity and connections with diaspora communities, or gender, racial, social and religious differences and grievances.\n",
    "\n",
    "Khan began his career with appearances in several television series in the late 1980s and made his Bollywood debut in 1992 with the musical romance Deewana. He was initially recognised for playing villainous roles in the films Baazigar (1993) and Darr (1993). Khan established himself by starring in a series of top-grossing romantic films, including Dilwale Dulhania Le Jayenge (1995), Dil To Pagal Hai (1997), Kuch Kuch Hota Hai (1998), Mohabbatein (2000), Kabhi Khushi Kabhie Gham... (2001), Kal Ho Naa Ho (2003), Veer-Zaara (2004) and Kabhi Alvida Naa Kehna (2006). He earned critical acclaim for his portrayal of an alcoholic in the period romantic drama Devdas (2002), a NASA scientist in the social drama Swades (2004), a hockey coach in the sports drama Chak De! India (2007), and a man with Asperger syndrome in the drama My Name Is Khan (2010). Further commercial successes came with the romances Om Shanti Om (2007) and Rab Ne Bana Di Jodi (2008), and with his expansion to comedies in Chennai Express (2013) and Happy New Year (2014). Following a brief setback and hiatus, Khan made a career comeback with the 2023 action thrillers Pathaan and Jawan, both of which rank among the highest-grossing Indian films.\n",
    "\n",
    "As of 2015, Khan is co-chairman of the motion picture production company Red Chillies Entertainment and its subsidiaries and is the co-owner of the Indian Premier League cricket team Kolkata Knight Riders and the Caribbean Premier League team Trinbago Knight Riders. The media often label him as \"Brand SRK\" because of his many endorsements and entrepreneurship ventures. He is a frequent television presenter and stage show performer. Khan's philanthropic endeavours have provided health care and disaster relief, and he was honoured with UNESCO's Pyramide con Marni award in 2011 for his support of children's education and the World Economic Forum's Crystal Award in 2018 for advocating for women's and children's rights in India. He regularly features in listings of the most influential people in Indian culture, and in 2008, Newsweek named him one of their fifty most powerful people in the world. In 2022, Khan was voted one of the 50 greatest actors of all time in a readers' poll by Empire, and in 2023, Time named him as one of the most influential people in the world.\n",
    "\n",
    "Early life and family\n",
    "Parents\n",
    "Khan's father, Mir Taj Mohammed Khan, was an Indian independence activist from Peshawar who campaigned alongside the Khudai Khidmatgar, a nonviolent resistance movement led by Abdul Ghaffar Khan that sought a united and independent India.[1][2] Mir was a follower of Abdul Ghaffar Khan,[3] and affiliated with the Indian National Congress.[4] He was also the cousin of the major general in the Indian National Army Shah Nawaz Khan.[c] According to Khan his paternal grandfather, Mir Jan Muhammad Khan, was an ethnic Pashtun (Pathan) from Afghanistan.[7][4][8] However, his paternal cousins in Peshawar later clarified that the family speaks Hindko and is originally from Kashmir, from where they settled in Peshawar centuries back, contradicting the claim that his grandfather was a Pashtun from Afghanistan.[4][9] As of 2010, Khan's paternal family was still living in the Shah Wali Qataal area of Peshawar's Qissa Khwani Bazaar.[4]\n",
    "\n",
    "In 1946, Mir moved to Delhi to study law at Delhi University.[10] When the partition of India occurred in 1947, he was forced to stay in Delhi, and did not return to Peshawar until many years later.[11] Khan's mother, Lateef Fatima, a magistrate, was the daughter of a senior government engineer.[12][c][13] His parents were married in 1959.[14]\n",
    "\n",
    "Early life\n",
    "Khan was born on 2 November 1965 into a Muslim family in New Delhi.[15] He spent the first five years of his life in Mangalore, where his maternal grandfather, Iftikhar Ahmed, served as chief engineer of the port in the 1960s.[16][17][d] Khan has described himself on Twitter as \"half Hyderabadi (mother), half Pathan (father), and some Kashmiri (grandmother)\".[19]\n",
    "\n",
    "Khan grew up in the Rajendra Nagar neighbourhood of New Delhi.[20] His father had several business ventures including a restaurant, and the family lived a middle-class life in rented apartments.[21] Khan attended St. Columba's School in central Delhi where he excelled in his studies and in sports such as hockey and football,[22] and received the school's highest award, the Sword of Honour.[21] Initially Khan aspired to pursue a career in sports, however owing to a shoulder injury in his early years meant that he could no longer play.[23] Instead, in his youth, he acted in stage plays and received praise for his imitations of Bollywood actors, of which his favourites were Dilip Kumar, Amitabh Bachchan, and Mumtaz.[24] One of his childhood friends and acting partners was Amrita Singh, who became a Bollywood actress.[25] Khan enrolled at Hansraj College (1985–88) to earn his bachelor's degree in economics, but spent much of his time at Delhi's Theatre Action Group (TAG),[26] where he studied acting under the mentorship of theatre director Barry John.[27][28] After Hansraj, he began studying for a master's degree in mass communication at Jamia Millia Islamia, but left to pursue his acting career.[29] He also attended the National School of Drama in Delhi during his early career in Bollywood.[30]\n",
    "\n",
    "His father died of cancer in 1981,[e] and his mother died in 1991 from complications of diabetes.[33] After the death of their parents, his older sister, Shahnaz Lalarukh (born 1960)[34] fell into a depressed state and Khan took on the responsibility of caring for her.[31][35] Shahnaz continues to live with her brother and his family in their Mumbai mansion.[36]\"\"\""
   ]
  },
  {
   "cell_type": "code",
   "execution_count": 81,
   "metadata": {},
   "outputs": [],
   "source": [
    "from langchain.callbacks import get_openai_callback"
   ]
  },
  {
   "cell_type": "code",
   "execution_count": 82,
   "metadata": {},
   "outputs": [
    {
     "name": "stdout",
     "output_type": "stream",
     "text": [
      "\n",
      "\n",
      "\u001b[1m> Entering new LLMChain chain...\u001b[0m\n",
      "Prompt after formatting:\n",
      "\u001b[32;1m\u001b[1;3mWrite a concise summary of the following topic in 30 words only:\n",
      "\"Shah Rukh Khan (pronounced [ˈʃɑːɦɾʊx xɑːn] ⓘ; born 2 November 1965), also known by the initialism SRK, is an Indian actor and film producer who works in Hindi films. Referred to in the media as the \"Baadshah of Bollywood\" and \"King Khan\",[a] he has appeared in more than 100 films, and earned numerous accolades, including 14 Filmfare Awards. He has been awarded the Padma Shri by the Government of India, as well as the Ordre des Arts et des Lettres and Legion of Honour by the Government of France. Khan has a significant following in Asia and the Indian diaspora worldwide. In terms of audience size and income, several media outlets have described him as one of the most successful film stars in the world.[b] Many of his films thematise Indian national identity and connections with diaspora communities, or gender, racial, social and religious differences and grievances.\n",
      "\n",
      "Khan began his career with appearances in several television series in the late 1980s and made his Bollywood debut in 1992 with the musical romance Deewana. He was initially recognised for playing villainous roles in the films Baazigar (1993) and Darr (1993). Khan established himself by starring in a series of top-grossing romantic films, including Dilwale Dulhania Le Jayenge (1995), Dil To Pagal Hai (1997), Kuch Kuch Hota Hai (1998), Mohabbatein (2000), Kabhi Khushi Kabhie Gham... (2001), Kal Ho Naa Ho (2003), Veer-Zaara (2004) and Kabhi Alvida Naa Kehna (2006). He earned critical acclaim for his portrayal of an alcoholic in the period romantic drama Devdas (2002), a NASA scientist in the social drama Swades (2004), a hockey coach in the sports drama Chak De! India (2007), and a man with Asperger syndrome in the drama My Name Is Khan (2010). Further commercial successes came with the romances Om Shanti Om (2007) and Rab Ne Bana Di Jodi (2008), and with his expansion to comedies in Chennai Express (2013) and Happy New Year (2014). Following a brief setback and hiatus, Khan made a career comeback with the 2023 action thrillers Pathaan and Jawan, both of which rank among the highest-grossing Indian films.\n",
      "\n",
      "As of 2015, Khan is co-chairman of the motion picture production company Red Chillies Entertainment and its subsidiaries and is the co-owner of the Indian Premier League cricket team Kolkata Knight Riders and the Caribbean Premier League team Trinbago Knight Riders. The media often label him as \"Brand SRK\" because of his many endorsements and entrepreneurship ventures. He is a frequent television presenter and stage show performer. Khan's philanthropic endeavours have provided health care and disaster relief, and he was honoured with UNESCO's Pyramide con Marni award in 2011 for his support of children's education and the World Economic Forum's Crystal Award in 2018 for advocating for women's and children's rights in India. He regularly features in listings of the most influential people in Indian culture, and in 2008, Newsweek named him one of their fifty most powerful people in the world. In 2022, Khan was voted one of the 50 greatest actors of all time in a readers' poll by Empire, and in 2023, Time named him as one of the most influential people in the world.\n",
      "\n",
      "Early life and family\n",
      "Parents\n",
      "Khan's father, Mir Taj Mohammed Khan, was an Indian independence activist from Peshawar who campaigned alongside the Khudai Khidmatgar, a nonviolent resistance movement led by Abdul Ghaffar Khan that sought a united and independent India.[1][2] Mir was a follower of Abdul Ghaffar Khan,[3] and affiliated with the Indian National Congress.[4] He was also the cousin of the major general in the Indian National Army Shah Nawaz Khan.[c] According to Khan his paternal grandfather, Mir Jan Muhammad Khan, was an ethnic Pashtun (Pathan) from Afghanistan.[7][4][8] However, his paternal cousins in Peshawar later clarified that the family speaks Hindko and is originally from Kashmir, from where they settled in Peshawar centuries back, contradicting the claim that his grandfather was a Pashtun from Afghanistan.[4][9] As of 2010, Khan's paternal family was still living in the Shah Wali Qataal area of Peshawar's Qissa Khwani Bazaar.[4]\n",
      "\n",
      "In 1946, Mir moved to Delhi to study law at Delhi University.[10] When the partition of India occurred in 1947, he was forced to stay in Delhi, and did not return to Peshawar until many years later.[11] Khan's mother, Lateef Fatima, a magistrate, was the daughter of a senior government engineer.[12][c][13] His parents were married in 1959.[14]\n",
      "\n",
      "Early life\n",
      "Khan was born on 2 November 1965 into a Muslim family in New Delhi.[15] He spent the first five years of his life in Mangalore, where his maternal grandfather, Iftikhar Ahmed, served as chief engineer of the port in the 1960s.[16][17][d] Khan has described himself on Twitter as \"half Hyderabadi (mother), half Pathan (father), and some Kashmiri (grandmother)\".[19]\n",
      "\n",
      "Khan grew up in the Rajendra Nagar neighbourhood of New Delhi.[20] His father had several business ventures including a restaurant, and the family lived a middle-class life in rented apartments.[21] Khan attended St. Columba's School in central Delhi where he excelled in his studies and in sports such as hockey and football,[22] and received the school's highest award, the Sword of Honour.[21] Initially Khan aspired to pursue a career in sports, however owing to a shoulder injury in his early years meant that he could no longer play.[23] Instead, in his youth, he acted in stage plays and received praise for his imitations of Bollywood actors, of which his favourites were Dilip Kumar, Amitabh Bachchan, and Mumtaz.[24] One of his childhood friends and acting partners was Amrita Singh, who became a Bollywood actress.[25] Khan enrolled at Hansraj College (1985–88) to earn his bachelor's degree in economics, but spent much of his time at Delhi's Theatre Action Group (TAG),[26] where he studied acting under the mentorship of theatre director Barry John.[27][28] After Hansraj, he began studying for a master's degree in mass communication at Jamia Millia Islamia, but left to pursue his acting career.[29] He also attended the National School of Drama in Delhi during his early career in Bollywood.[30]\n",
      "\n",
      "His father died of cancer in 1981,[e] and his mother died in 1991 from complications of diabetes.[33] After the death of their parents, his older sister, Shahnaz Lalarukh (born 1960)[34] fell into a depressed state and Khan took on the responsibility of caring for her.[31][35] Shahnaz continues to live with her brother and his family in their Mumbai mansion.[36]\"\n",
      "CONCISE SUMMARY:\u001b[0m\n",
      "\n",
      "\u001b[1m> Finished chain.\u001b[0m\n"
     ]
    }
   ],
   "source": [
    "with get_openai_callback() as cb:\n",
    "    response=llm_chain(\n",
    "        {\n",
    "            \"number\":30,\n",
    "            \"text\": TEXT,\n",
    "        }\n",
    "    )"
   ]
  },
  {
   "cell_type": "code",
   "execution_count": 83,
   "metadata": {},
   "outputs": [
    {
     "data": {
      "text/plain": [
       "{'number': 30,\n",
       " 'text': 'Shah Rukh Khan (pronounced [ˈʃɑːɦɾʊx xɑːn] ⓘ; born 2 November 1965), also known by the initialism SRK, is an Indian actor and film producer who works in Hindi films. Referred to in the media as the \"Baadshah of Bollywood\" and \"King Khan\",[a] he has appeared in more than 100 films, and earned numerous accolades, including 14 Filmfare Awards. He has been awarded the Padma Shri by the Government of India, as well as the Ordre des Arts et des Lettres and Legion of Honour by the Government of France. Khan has a significant following in Asia and the Indian diaspora worldwide. In terms of audience size and income, several media outlets have described him as one of the most successful film stars in the world.[b] Many of his films thematise Indian national identity and connections with diaspora communities, or gender, racial, social and religious differences and grievances.\\n\\nKhan began his career with appearances in several television series in the late 1980s and made his Bollywood debut in 1992 with the musical romance Deewana. He was initially recognised for playing villainous roles in the films Baazigar (1993) and Darr (1993). Khan established himself by starring in a series of top-grossing romantic films, including Dilwale Dulhania Le Jayenge (1995), Dil To Pagal Hai (1997), Kuch Kuch Hota Hai (1998), Mohabbatein (2000), Kabhi Khushi Kabhie Gham... (2001), Kal Ho Naa Ho (2003), Veer-Zaara (2004) and Kabhi Alvida Naa Kehna (2006). He earned critical acclaim for his portrayal of an alcoholic in the period romantic drama Devdas (2002), a NASA scientist in the social drama Swades (2004), a hockey coach in the sports drama Chak De! India (2007), and a man with Asperger syndrome in the drama My Name Is Khan (2010). Further commercial successes came with the romances Om Shanti Om (2007) and Rab Ne Bana Di Jodi (2008), and with his expansion to comedies in Chennai Express (2013) and Happy New Year (2014). Following a brief setback and hiatus, Khan made a career comeback with the 2023 action thrillers Pathaan and Jawan, both of which rank among the highest-grossing Indian films.\\n\\nAs of 2015, Khan is co-chairman of the motion picture production company Red Chillies Entertainment and its subsidiaries and is the co-owner of the Indian Premier League cricket team Kolkata Knight Riders and the Caribbean Premier League team Trinbago Knight Riders. The media often label him as \"Brand SRK\" because of his many endorsements and entrepreneurship ventures. He is a frequent television presenter and stage show performer. Khan\\'s philanthropic endeavours have provided health care and disaster relief, and he was honoured with UNESCO\\'s Pyramide con Marni award in 2011 for his support of children\\'s education and the World Economic Forum\\'s Crystal Award in 2018 for advocating for women\\'s and children\\'s rights in India. He regularly features in listings of the most influential people in Indian culture, and in 2008, Newsweek named him one of their fifty most powerful people in the world. In 2022, Khan was voted one of the 50 greatest actors of all time in a readers\\' poll by Empire, and in 2023, Time named him as one of the most influential people in the world.\\n\\nEarly life and family\\nParents\\nKhan\\'s father, Mir Taj Mohammed Khan, was an Indian independence activist from Peshawar who campaigned alongside the Khudai Khidmatgar, a nonviolent resistance movement led by Abdul Ghaffar Khan that sought a united and independent India.[1][2] Mir was a follower of Abdul Ghaffar Khan,[3] and affiliated with the Indian National Congress.[4] He was also the cousin of the major general in the Indian National Army Shah Nawaz Khan.[c] According to Khan his paternal grandfather, Mir Jan Muhammad Khan, was an ethnic Pashtun (Pathan) from Afghanistan.[7][4][8] However, his paternal cousins in Peshawar later clarified that the family speaks Hindko and is originally from Kashmir, from where they settled in Peshawar centuries back, contradicting the claim that his grandfather was a Pashtun from Afghanistan.[4][9] As of 2010, Khan\\'s paternal family was still living in the Shah Wali Qataal area of Peshawar\\'s Qissa Khwani Bazaar.[4]\\n\\nIn 1946, Mir moved to Delhi to study law at Delhi University.[10] When the partition of India occurred in 1947, he was forced to stay in Delhi, and did not return to Peshawar until many years later.[11] Khan\\'s mother, Lateef Fatima, a magistrate, was the daughter of a senior government engineer.[12][c][13] His parents were married in 1959.[14]\\n\\nEarly life\\nKhan was born on 2 November 1965 into a Muslim family in New Delhi.[15] He spent the first five years of his life in Mangalore, where his maternal grandfather, Iftikhar Ahmed, served as chief engineer of the port in the 1960s.[16][17][d] Khan has described himself on Twitter as \"half Hyderabadi (mother), half Pathan (father), and some Kashmiri (grandmother)\".[19]\\n\\nKhan grew up in the Rajendra Nagar neighbourhood of New Delhi.[20] His father had several business ventures including a restaurant, and the family lived a middle-class life in rented apartments.[21] Khan attended St. Columba\\'s School in central Delhi where he excelled in his studies and in sports such as hockey and football,[22] and received the school\\'s highest award, the Sword of Honour.[21] Initially Khan aspired to pursue a career in sports, however owing to a shoulder injury in his early years meant that he could no longer play.[23] Instead, in his youth, he acted in stage plays and received praise for his imitations of Bollywood actors, of which his favourites were Dilip Kumar, Amitabh Bachchan, and Mumtaz.[24] One of his childhood friends and acting partners was Amrita Singh, who became a Bollywood actress.[25] Khan enrolled at Hansraj College (1985–88) to earn his bachelor\\'s degree in economics, but spent much of his time at Delhi\\'s Theatre Action Group (TAG),[26] where he studied acting under the mentorship of theatre director Barry John.[27][28] After Hansraj, he began studying for a master\\'s degree in mass communication at Jamia Millia Islamia, but left to pursue his acting career.[29] He also attended the National School of Drama in Delhi during his early career in Bollywood.[30]\\n\\nHis father died of cancer in 1981,[e] and his mother died in 1991 from complications of diabetes.[33] After the death of their parents, his older sister, Shahnaz Lalarukh (born 1960)[34] fell into a depressed state and Khan took on the responsibility of caring for her.[31][35] Shahnaz continues to live with her brother and his family in their Mumbai mansion.[36]',\n",
       " 'summary': 'Shah Rukh Khan, also known as SRK, is a highly acclaimed Indian actor and film producer in Hindi cinema. He has received numerous awards and accolades for his work.'}"
      ]
     },
     "execution_count": 83,
     "metadata": {},
     "output_type": "execute_result"
    }
   ],
   "source": [
    "response"
   ]
  },
  {
   "cell_type": "code",
   "execution_count": 78,
   "metadata": {},
   "outputs": [
    {
     "name": "stdout",
     "output_type": "stream",
     "text": [
      "Total Tokens:1640\n",
      "Prompt Tokens:1599\n",
      "Completion Tokens:41\n",
      "Total Cost:0.0024805\n"
     ]
    }
   ],
   "source": [
    "print(f\"Total Tokens:{cb.total_tokens}\")\n",
    "print(f\"Prompt Tokens:{cb.prompt_tokens}\")\n",
    "print(f\"Completion Tokens:{cb.completion_tokens}\")\n",
    "print(f\"Total Cost:{cb.total_cost}\")"
   ]
  },
  {
   "cell_type": "code",
   "execution_count": null,
   "metadata": {},
   "outputs": [],
   "source": []
  }
 ],
 "metadata": {
  "kernelspec": {
   "display_name": "text_env",
   "language": "python",
   "name": "python3"
  },
  "language_info": {
   "codemirror_mode": {
    "name": "ipython",
    "version": 3
   },
   "file_extension": ".py",
   "mimetype": "text/x-python",
   "name": "python",
   "nbconvert_exporter": "python",
   "pygments_lexer": "ipython3",
   "version": "3.11.5"
  }
 },
 "nbformat": 4,
 "nbformat_minor": 2
}
